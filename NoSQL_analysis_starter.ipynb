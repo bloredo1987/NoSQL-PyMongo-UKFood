{
 "cells": [
  {
   "cell_type": "markdown",
   "id": "9a57c4c6",
   "metadata": {},
   "source": [
    "# Eat Safe, Love"
   ]
  },
  {
   "cell_type": "markdown",
   "id": "064ef857",
   "metadata": {},
   "source": [
    "## Notebook Set Up"
   ]
  },
  {
   "cell_type": "code",
   "execution_count": 26,
   "id": "3ecdd008",
   "metadata": {},
   "outputs": [],
   "source": [
    "# Import dependencies\n",
    "from pymongo import MongoClient\n",
    "from pprint import pprint\n",
    "import pandas as pd\n",
    "from bson.son import SON\n",
    "from decimal import Decimal"
   ]
  },
  {
   "cell_type": "code",
   "execution_count": 27,
   "id": "59390c4a",
   "metadata": {},
   "outputs": [],
   "source": [
    "# Create an instance of MongoClient\n",
    "mongo = MongoClient(port=27017)"
   ]
  },
  {
   "cell_type": "code",
   "execution_count": 28,
   "id": "71e373c1",
   "metadata": {},
   "outputs": [],
   "source": [
    "# assign the uk_food database to a variable name\n",
    "db = mongo['uk_food']"
   ]
  },
  {
   "cell_type": "code",
   "execution_count": 29,
   "id": "18ab463c",
   "metadata": {},
   "outputs": [
    {
     "name": "stdout",
     "output_type": "stream",
     "text": [
      "['establishments']\n"
     ]
    }
   ],
   "source": [
    "# review the collections in our database\n",
    "print(db.list_collection_names())"
   ]
  },
  {
   "cell_type": "code",
   "execution_count": 30,
   "id": "11c9f11b",
   "metadata": {},
   "outputs": [],
   "source": [
    "# assign the collection to a variable\n",
    "establishments = db['establishments']"
   ]
  },
  {
   "cell_type": "markdown",
   "id": "d5671434",
   "metadata": {},
   "source": [
    "## Part 3: Exploratory Analysis\n",
    "Unless otherwise stated, for each question: \n",
    "* Use `count_documents` to display the number of documents contained in the result.\n",
    "* Display the first document in the results using `pprint`.\n",
    "* Convert the result to a Pandas DataFrame, print the number of rows in the DataFrame, and display the first 10 rows."
   ]
  },
  {
   "cell_type": "markdown",
   "id": "314bd884",
   "metadata": {},
   "source": [
    "### 1. Which establishments have a hygiene score equal to 20?"
   ]
  },
  {
   "cell_type": "code",
   "execution_count": 7,
   "id": "c2da7648",
   "metadata": {},
   "outputs": [
    {
     "name": "stdout",
     "output_type": "stream",
     "text": [
      "Number of establishments with a hygiene score of 20: 41\n",
      "First document with a hygiene score of 20:\n",
      "{'AddressLine1': '5-6 Southfields Road',\n",
      " 'AddressLine2': 'Eastbourne',\n",
      " 'AddressLine3': 'East Sussex',\n",
      " 'AddressLine4': '',\n",
      " 'BusinessName': 'The Chase Rest Home',\n",
      " 'BusinessType': 'Caring Premises',\n",
      " 'BusinessTypeID': 5,\n",
      " 'ChangesByServerID': 0,\n",
      " 'Distance': 4613.888288172291,\n",
      " 'FHRSID': 110681,\n",
      " 'LocalAuthorityBusinessID': '4029',\n",
      " 'LocalAuthorityCode': '102',\n",
      " 'LocalAuthorityEmailAddress': 'Customerfirst@eastbourne.gov.uk',\n",
      " 'LocalAuthorityName': 'Eastbourne',\n",
      " 'LocalAuthorityWebSite': 'http://www.eastbourne.gov.uk/foodratings',\n",
      " 'NewRatingPending': False,\n",
      " 'Phone': '',\n",
      " 'PostCode': 'BN21 1BU',\n",
      " 'RatingDate': '2021-09-23T00:00:00',\n",
      " 'RatingKey': 'fhrs_0_en-gb',\n",
      " 'RatingValue': 0,\n",
      " 'RightToReply': '',\n",
      " 'SchemeType': 'FHRS',\n",
      " '_id': ObjectId('64c00e8825835fc1a0fa2303'),\n",
      " 'geocode': {'latitude': '50.769705', 'longitude': '0.27694'},\n",
      " 'latitude': Decimal128('51.49014200'),\n",
      " 'links': [{'href': 'https://api.ratings.food.gov.uk/establishments/110681',\n",
      "            'rel': 'self'}],\n",
      " 'longitude': Decimal128('0.08384000'),\n",
      " 'meta': {'dataSource': None,\n",
      "          'extractDate': '0001-01-01T00:00:00',\n",
      "          'itemCount': 0,\n",
      "          'pageNumber': 0,\n",
      "          'pageSize': 0,\n",
      "          'returncode': None,\n",
      "          'totalCount': 0,\n",
      "          'totalPages': 0},\n",
      " 'scores': {'ConfidenceInManagement': 20, 'Hygiene': 20, 'Structural': 20}}\n"
     ]
    }
   ],
   "source": [
    "# Find the establishments with a hygiene score of 20\n",
    "query ={\"scores.Hygiene\": 20}\n",
    "\n",
    "# Use count_documents to display the number of documents in the result\n",
    "count = establishments.count_documents(query)\n",
    "print(f\"Number of establishments with a hygiene score of 20: {count}\")\n",
    "# Display the first document in the results using pprint\n",
    "first_document = establishments.find_one(query)\n",
    "print(\"First document with a hygiene score of 20:\")\n",
    "pprint(first_document)"
   ]
  },
  {
   "cell_type": "code",
   "execution_count": 8,
   "id": "a6e5cece",
   "metadata": {},
   "outputs": [
    {
     "name": "stdout",
     "output_type": "stream",
     "text": [
      "Number of rows in the DataFrame: 41\n",
      "First 10 rows of the DataFrame:\n",
      "                        _id   FHRSID  ChangesByServerID  \\\n",
      "0  64c00e8825835fc1a0fa2303   110681                  0   \n",
      "1  64c00e8825835fc1a0fa2685   612039                  0   \n",
      "2  64c00e8825835fc1a0fa298e   730933                  0   \n",
      "3  64c00e8825835fc1a0fa2b7c   172735                  0   \n",
      "4  64c00e8825835fc1a0fa2b8b   172953                  0   \n",
      "5  64c00e8825835fc1a0fa3529   512854                  0   \n",
      "6  64c00e8825835fc1a0fa374e  1537089                  0   \n",
      "7  64c00e8925835fc1a0fa4c76   155648                  0   \n",
      "8  64c00e8925835fc1a0fa50ba  1012883                  0   \n",
      "9  64c00e8925835fc1a0fa58cc   644109                  0   \n",
      "\n",
      "  LocalAuthorityBusinessID               BusinessName  \\\n",
      "0                     4029        The Chase Rest Home   \n",
      "1                1970/FOOD                 Brenalwood   \n",
      "2                1698/FOOD              Melrose Hotel   \n",
      "3             PI/000023858              Seaford Pizza   \n",
      "4             PI/000024532              Golden Palace   \n",
      "5            12/00816/BUTH           Ashby's Butchers   \n",
      "6          22/00224/RESTUN  South Sea Express Cuisine   \n",
      "7              EH/00006058              Golden Palace   \n",
      "8         17/00110/MIXED/S             The Tulip Tree   \n",
      "9                    41811                      F & S   \n",
      "\n",
      "                        BusinessType  BusinessTypeID           AddressLine1  \\\n",
      "0                    Caring Premises               5   5-6 Southfields Road   \n",
      "1                    Caring Premises               5              Hall Lane   \n",
      "2  Hotel/bed & breakfast/guest house            7842  53 Marine Parade East   \n",
      "3             Takeaway/sandwich shop            7844          4 High Street   \n",
      "4            Restaurant/Cafe/Canteen               1         5 South Street   \n",
      "5                  Retailers - other            4613   777 Southchurch Road   \n",
      "6            Restaurant/Cafe/Canteen               1    33 Alexandra Street   \n",
      "7             Takeaway/sandwich shop            7844          7 London Road   \n",
      "8            Restaurant/Cafe/Canteen               1          3 The Village   \n",
      "9                  Retailers - other            4613                          \n",
      "\n",
      "         AddressLine2 AddressLine3  ...  \\\n",
      "0          Eastbourne  East Sussex  ...   \n",
      "1  Walton-on-the-Naze        Essex  ...   \n",
      "2      Clacton On Sea        Essex  ...   \n",
      "3             Seaford  East Sussex  ...   \n",
      "4             Seaford  East Sussex  ...   \n",
      "5     Southend-On-Sea        Essex  ...   \n",
      "6     Southend-on-sea        Essex  ...   \n",
      "7            Rayleigh        Essex  ...   \n",
      "8       Chiddingstone         KENT  ...   \n",
      "9      81 Southernhay     Basildon  ...   \n",
      "\n",
      "                                              scores SchemeType  \\\n",
      "0  {'Hygiene': 20, 'Structural': 20, 'ConfidenceI...       FHRS   \n",
      "1  {'Hygiene': 20, 'Structural': 15, 'ConfidenceI...       FHRS   \n",
      "2  {'Hygiene': 20, 'Structural': 20, 'ConfidenceI...       FHRS   \n",
      "3  {'Hygiene': 20, 'Structural': 10, 'ConfidenceI...       FHRS   \n",
      "4  {'Hygiene': 20, 'Structural': 10, 'ConfidenceI...       FHRS   \n",
      "5  {'Hygiene': 20, 'Structural': 20, 'ConfidenceI...       FHRS   \n",
      "6  {'Hygiene': 20, 'Structural': 20, 'ConfidenceI...       FHRS   \n",
      "7  {'Hygiene': 20, 'Structural': 15, 'ConfidenceI...       FHRS   \n",
      "8  {'Hygiene': 20, 'Structural': 5, 'ConfidenceIn...       FHRS   \n",
      "9  {'Hygiene': 20, 'Structural': 20, 'ConfidenceI...       FHRS   \n",
      "\n",
      "                                             geocode  RightToReply  \\\n",
      "0  {'longitude': '0.27694', 'latitude': '50.769705'}                 \n",
      "1  {'longitude': '1.278721', 'latitude': '51.8575...                 \n",
      "2  {'longitude': '1.15927', 'latitude': '51.789429'}                 \n",
      "3  {'longitude': '0.10202', 'latitude': '50.770885'}                 \n",
      "4  {'longitude': '0.101446', 'latitude': '50.7707...                 \n",
      "5  {'longitude': '0.736349', 'latitude': '51.5414...                 \n",
      "6  {'longitude': '0.7121671', 'latitude': '51.535...                 \n",
      "7  {'longitude': '0.602364', 'latitude': '51.5915...                 \n",
      "8  {'longitude': '0.146449998021126', 'latitude':...                 \n",
      "9  {'longitude': '0.462307', 'latitude': '51.57005'}                 \n",
      "\n",
      "      Distance NewRatingPending  \\\n",
      "0  4613.888288            False   \n",
      "1  4617.965824            False   \n",
      "2  4619.656144            False   \n",
      "3  4620.421725            False   \n",
      "4  4620.437179            False   \n",
      "5  4625.565258            False   \n",
      "6  4626.200132            False   \n",
      "7  4632.276890            False   \n",
      "8  4633.934041            False   \n",
      "9  4636.552523            False   \n",
      "\n",
      "                                                meta  \\\n",
      "0  {'dataSource': None, 'extractDate': '0001-01-0...   \n",
      "1  {'dataSource': None, 'extractDate': '0001-01-0...   \n",
      "2  {'dataSource': None, 'extractDate': '0001-01-0...   \n",
      "3  {'dataSource': None, 'extractDate': '0001-01-0...   \n",
      "4  {'dataSource': None, 'extractDate': '0001-01-0...   \n",
      "5  {'dataSource': None, 'extractDate': '0001-01-0...   \n",
      "6  {'dataSource': None, 'extractDate': '0001-01-0...   \n",
      "7  {'dataSource': None, 'extractDate': '0001-01-0...   \n",
      "8  {'dataSource': None, 'extractDate': '0001-01-0...   \n",
      "9  {'dataSource': None, 'extractDate': '0001-01-0...   \n",
      "\n",
      "                                               links     latitude   longitude  \n",
      "0  [{'rel': 'self', 'href': 'https://api.ratings....  51.49014200  0.08384000  \n",
      "1  [{'rel': 'self', 'href': 'https://api.ratings....  51.49014200  0.08384000  \n",
      "2  [{'rel': 'self', 'href': 'https://api.ratings....  51.49014200  0.08384000  \n",
      "3  [{'rel': 'self', 'href': 'https://api.ratings....  51.49014200  0.08384000  \n",
      "4  [{'rel': 'self', 'href': 'https://api.ratings....  51.49014200  0.08384000  \n",
      "5  [{'rel': 'self', 'href': 'https://api.ratings....  51.49014200  0.08384000  \n",
      "6  [{'rel': 'self', 'href': 'https://api.ratings....  51.49014200  0.08384000  \n",
      "7  [{'rel': 'self', 'href': 'http://api.ratings.f...  51.49014200  0.08384000  \n",
      "8  [{'rel': 'self', 'href': 'http://api.ratings.f...  51.49014200  0.08384000  \n",
      "9  [{'rel': 'self', 'href': 'http://api.ratings.f...  51.49014200  0.08384000  \n",
      "\n",
      "[10 rows x 30 columns]\n"
     ]
    }
   ],
   "source": [
    "# Convert the result to a Pandas DataFrame\n",
    "result_df = pd.DataFrame(list(establishments.find(query)))\n",
    "# Display the number of rows in the DataFrame\n",
    "print(f\"Number of rows in the DataFrame: {len(result_df)}\")\n",
    "# Display the first 10 rows of the DataFrame\n",
    "print(\"First 10 rows of the DataFrame:\")\n",
    "print(result_df.head(10))"
   ]
  },
  {
   "cell_type": "markdown",
   "id": "0ef4395a",
   "metadata": {},
   "source": [
    "### 2. Which establishments in London have a `RatingValue` greater than or equal to 4?"
   ]
  },
  {
   "cell_type": "code",
   "execution_count": 9,
   "id": "93c63829",
   "metadata": {},
   "outputs": [
    {
     "name": "stdout",
     "output_type": "stream",
     "text": [
      "Number of Establishments w/ London as LocalAuthority and RatingValue >= 4 : 33\n",
      "First document with London as Local Authority and RatingValue >= 4:\n",
      "{'AddressLine1': 'Oak Apple Farm Building 103 Sheernes Docks',\n",
      " 'AddressLine2': 'Sheppy Kent',\n",
      " 'AddressLine3': '',\n",
      " 'AddressLine4': '',\n",
      " 'BusinessName': \"Charlie's\",\n",
      " 'BusinessType': 'Other catering premises',\n",
      " 'BusinessTypeID': 7841,\n",
      " 'ChangesByServerID': 0,\n",
      " 'Distance': 4627.439467780196,\n",
      " 'FHRSID': 621707,\n",
      " 'LocalAuthorityBusinessID': 'PI/000025307',\n",
      " 'LocalAuthorityCode': '508',\n",
      " 'LocalAuthorityEmailAddress': 'publicprotection@cityoflondon.gov.uk',\n",
      " 'LocalAuthorityName': 'City of London Corporation',\n",
      " 'LocalAuthorityWebSite': 'http://www.cityoflondon.gov.uk/Corporation/homepage.htm',\n",
      " 'NewRatingPending': False,\n",
      " 'Phone': '',\n",
      " 'PostCode': 'ME12',\n",
      " 'RatingDate': '2021-10-18T00:00:00',\n",
      " 'RatingKey': 'fhrs_4_en-gb',\n",
      " 'RatingValue': 4,\n",
      " 'RightToReply': '',\n",
      " 'SchemeType': 'FHRS',\n",
      " '_id': ObjectId('64c00e8825835fc1a0fa3d1e'),\n",
      " 'geocode': {'latitude': '51.369321', 'longitude': '0.508551'},\n",
      " 'latitude': Decimal128('51.49014200'),\n",
      " 'links': [{'href': 'https://api.ratings.food.gov.uk/establishments/621707',\n",
      "            'rel': 'self'}],\n",
      " 'longitude': Decimal128('0.08384000'),\n",
      " 'meta': {'dataSource': None,\n",
      "          'extractDate': '0001-01-01T00:00:00',\n",
      "          'itemCount': 0,\n",
      "          'pageNumber': 0,\n",
      "          'pageSize': 0,\n",
      "          'returncode': None,\n",
      "          'totalCount': 0,\n",
      "          'totalPages': 0},\n",
      " 'scores': {'ConfidenceInManagement': 5, 'Hygiene': 5, 'Structural': 10}}\n"
     ]
    }
   ],
   "source": [
    "# Find the establishments with London as the Local Authority and has a RatingValue greater than or equal to 4.\n",
    "query1 = {'LocalAuthorityName': {'$regex' : 'London'}, 'RatingValue': {'$gte': 4}}\n",
    "\n",
    "# Use count_documents to display the number of documents in the result\n",
    "count1 = establishments.count_documents(query1)\n",
    "print(f\"Number of Establishments w/ London as LocalAuthority and RatingValue >= 4 : {count1}\")\n",
    "\n",
    "# Display the first document in the results using pprint\n",
    "first_document1 = establishments.find_one(query1)\n",
    "print(\"First document with London as Local Authority and RatingValue >= 4:\")\n",
    "pprint(first_document1)"
   ]
  },
  {
   "cell_type": "code",
   "execution_count": 10,
   "id": "07e24ccb",
   "metadata": {},
   "outputs": [
    {
     "name": "stdout",
     "output_type": "stream",
     "text": [
      "Number of rows in DataFrame: 33\n",
      "First 10 Rows of the DataFrame: \n",
      "                        _id   FHRSID  ChangesByServerID  \\\n",
      "0  64c00e8825835fc1a0fa3d1e   621707                  0   \n",
      "1  64c00e8925835fc1a0fa4044  1130836                  0   \n",
      "2  64c00e8925835fc1a0fa4b91   293783                  0   \n",
      "3  64c00e8925835fc1a0fa5991   294474                  0   \n",
      "4  64c00e8925835fc1a0fa5992  1315095                  0   \n",
      "\n",
      "  LocalAuthorityBusinessID                          BusinessName  \\\n",
      "0             PI/000025307                             Charlie's   \n",
      "1             PI/000034075               Mv City Cruises Erasmus   \n",
      "2             PI/000002614             Benfleet Motor Yacht Club   \n",
      "3             PI/000014647              Tilbury Seafarers Centre   \n",
      "4             PI/000036464  Coombs Catering t/a The Lock and Key   \n",
      "\n",
      "              BusinessType  BusinessTypeID  \\\n",
      "0  Other catering premises            7841   \n",
      "1  Other catering premises            7841   \n",
      "2  Other catering premises            7841   \n",
      "3  Restaurant/Cafe/Canteen               1   \n",
      "4  Restaurant/Cafe/Canteen               1   \n",
      "\n",
      "                                 AddressLine1  \\\n",
      "0  Oak Apple Farm Building 103 Sheernes Docks   \n",
      "1                          Cherry Garden Pier   \n",
      "2                                  Ferry Road   \n",
      "3                   Tenants Row Tilbury Docks   \n",
      "4                           Leslie Ford House   \n",
      "\n",
      "                       AddressLine2 AddressLine3  ...  \\\n",
      "0                       Sheppy Kent               ...   \n",
      "1  Cherry Garden Street Rotherhithe     Charlton  ...   \n",
      "2              South Benfleet Essex               ...   \n",
      "3                     Tilbury Essex               ...   \n",
      "4                           Tilbury     Charlton  ...   \n",
      "\n",
      "                                              scores SchemeType  \\\n",
      "0  {'Hygiene': 5, 'Structural': 10, 'ConfidenceIn...       FHRS   \n",
      "1  {'Hygiene': 0, 'Structural': 5, 'ConfidenceInM...       FHRS   \n",
      "2  {'Hygiene': 0, 'Structural': 0, 'ConfidenceInM...       FHRS   \n",
      "3  {'Hygiene': 0, 'Structural': 0, 'ConfidenceInM...       FHRS   \n",
      "4  {'Hygiene': 0, 'Structural': 5, 'ConfidenceInM...       FHRS   \n",
      "\n",
      "                                             geocode  RightToReply  \\\n",
      "0  {'longitude': '0.508551', 'latitude': '51.3693...                 \n",
      "1  {'longitude': '0.249255999922752', 'latitude':...                 \n",
      "2  {'longitude': '0.561954', 'latitude': '51.5438...                 \n",
      "3  {'longitude': '0.346325', 'latitude': '51.4640...                 \n",
      "4  {'longitude': '0.346336990594864', 'latitude':...                 \n",
      "\n",
      "      Distance NewRatingPending  \\\n",
      "0  4627.439468            False   \n",
      "1  4627.873179            False   \n",
      "2  4631.968418            False   \n",
      "3  4636.847650            False   \n",
      "4  4636.846754            False   \n",
      "\n",
      "                                                meta  \\\n",
      "0  {'dataSource': None, 'extractDate': '0001-01-0...   \n",
      "1  {'dataSource': None, 'extractDate': '0001-01-0...   \n",
      "2  {'dataSource': None, 'extractDate': '0001-01-0...   \n",
      "3  {'dataSource': None, 'extractDate': '0001-01-0...   \n",
      "4  {'dataSource': None, 'extractDate': '0001-01-0...   \n",
      "\n",
      "                                               links     latitude   longitude  \n",
      "0  [{'rel': 'self', 'href': 'https://api.ratings....  51.49014200  0.08384000  \n",
      "1  [{'rel': 'self', 'href': 'http://api.ratings.f...  51.49014200  0.08384000  \n",
      "2  [{'rel': 'self', 'href': 'http://api.ratings.f...  51.49014200  0.08384000  \n",
      "3  [{'rel': 'self', 'href': 'http://api.ratings.f...  51.49014200  0.08384000  \n",
      "4  [{'rel': 'self', 'href': 'http://api.ratings.f...  51.49014200  0.08384000  \n",
      "\n",
      "[5 rows x 30 columns]\n"
     ]
    }
   ],
   "source": [
    "# Convert the result to a Pandas DataFrame\n",
    "results1_df = pd.DataFrame(list(establishments.find(query1)))\n",
    "# Display the number of rows in the DataFrame\n",
    "print(f\"Number of rows in DataFrame: {len(results1_df)}\")\n",
    "# Display the first 10 rows of the DataFrame\n",
    "print(\"First 10 Rows of the DataFrame: \")\n",
    "print(results1_df.head())"
   ]
  },
  {
   "attachments": {},
   "cell_type": "markdown",
   "id": "4e570caf",
   "metadata": {},
   "source": [
    "### 3. What are the top 5 establishments with a `RatingValue` rating value of 5, sorted by lowest hygiene score, nearest to the new restaurant added, \"Penang Flavours\"?"
   ]
  },
  {
   "cell_type": "code",
   "execution_count": 46,
   "id": "35cd9ef0",
   "metadata": {},
   "outputs": [
    {
     "data": {
      "text/plain": [
       "<pymongo.results.UpdateResult at 0x1ef87243c80>"
      ]
     },
     "execution_count": 46,
     "metadata": {},
     "output_type": "execute_result"
    }
   ],
   "source": [
    "#Convert Lon and Lat from string to float\n",
    "establishments.update_many({'geocode.longitude': {'$exists': True, '$type': 'string'}}, [{'$set': {'geocode.longitude': { '$toDouble': '$geocode.longitude'}}}])"
   ]
  },
  {
   "cell_type": "code",
   "execution_count": 49,
   "id": "6befc095",
   "metadata": {},
   "outputs": [
    {
     "data": {
      "text/plain": [
       "<pymongo.results.UpdateResult at 0x1ef87243480>"
      ]
     },
     "execution_count": 49,
     "metadata": {},
     "output_type": "execute_result"
    }
   ],
   "source": [
    "establishments.update_many({'geocode.latitude': {'$exists': True, '$type': 'string'}}, [{'$set': {'geocode.latitude': { '$toDouble': '$geocode.latitude'}}}])"
   ]
  },
  {
   "cell_type": "code",
   "execution_count": 65,
   "id": "7f599f3d",
   "metadata": {},
   "outputs": [],
   "source": [
    "# Search within 0.01 degree on either side of the latitude and longitude.\n",
    "# Rating value must equal 5\n",
    "# Sort by hygiene score\n",
    "\n",
    "degree_search = 0.01\n",
    "latitude = 51.490142\n",
    "longitude = 0.08384\n",
    "\n",
    "query2 = {\n",
    "    'RatingValue': 5,\n",
    "    'geocode.latitude': {'$gte': latitude - degree_search, '$lte': latitude + degree_search},\n",
    "    'geocode.longitude': {'$gte': longitude - degree_search, '$lte': longitude + degree_search}\n",
    "}\n",
    "\n",
    "sort2 =  [('scores.Hygiene', 1)]\n",
    "\n",
    "limit2 = 5\n",
    "\n",
    "# Use find to get establishments that match the query and sort by hygiene score\n",
    "result2 = establishments.find(query2).sort(sort2).limit(limit2)\n",
    "\n",
    "# Print the results\n",
    "# for results in result2:\n",
    "#     print(results)"
   ]
  },
  {
   "cell_type": "code",
   "execution_count": 66,
   "id": "a6ad16f7",
   "metadata": {},
   "outputs": [
    {
     "name": "stdout",
     "output_type": "stream",
     "text": [
      "Number of rows in DataFrame: 5\n",
      "First 10 Rows of the DataFrame: \n",
      "                        _id   FHRSID  ChangesByServerID  \\\n",
      "0  64c00e8a25835fc1a0fa7b65   694609                  0   \n",
      "1  64c00e8a25835fc1a0fa7b7b   695241                  0   \n",
      "2  64c00e8a25835fc1a0fa7b7d   694478                  0   \n",
      "3  64c00e8a25835fc1a0fa7b34   695223                  0   \n",
      "4  64c00e8a25835fc1a0fa7b44  1380578                  0   \n",
      "\n",
      "  LocalAuthorityBusinessID                         BusinessName  \\\n",
      "0             PI/000116619                            Volunteer   \n",
      "1             PI/000179088              Plumstead Manor Nursery   \n",
      "2             PI/000086506                    Atlantic Fish Bar   \n",
      "3             PI/000178842                              Iceland   \n",
      "4                    14425  Howe and Co Fish and Chips - Van 17   \n",
      "\n",
      "                            BusinessType  BusinessTypeID  \\\n",
      "0                      Pub/bar/nightclub            7843   \n",
      "1                        Caring Premises               5   \n",
      "2                 Takeaway/sandwich shop            7844   \n",
      "3  Retailers - supermarkets/hypermarkets            7840   \n",
      "4                         Mobile caterer            7846   \n",
      "\n",
      "                                        AddressLine1 AddressLine2  \\\n",
      "0                    130 - 132 Plumstead High Street                \n",
      "1               Plumstead Manor School Old Mill Road                \n",
      "2                                   35 Lakedale Road                \n",
      "3                    144 - 146 Plumstead High Street                \n",
      "4  Restaurant And Premises 107A Plumstead High St...                \n",
      "\n",
      "  AddressLine3  ...                                             scores  \\\n",
      "0    Plumstead  ...  {'Hygiene': 0, 'Structural': 0, 'ConfidenceInM...   \n",
      "1    Plumstead  ...  {'Hygiene': 0, 'Structural': 0, 'ConfidenceInM...   \n",
      "2    Plumstead  ...  {'Hygiene': 0, 'Structural': 0, 'ConfidenceInM...   \n",
      "3    Plumstead  ...  {'Hygiene': 0, 'Structural': 5, 'ConfidenceInM...   \n",
      "4    Plumstead  ...  {'Hygiene': 0, 'Structural': 0, 'ConfidenceInM...   \n",
      "\n",
      "  SchemeType                                            geocode  RightToReply  \\\n",
      "0       FHRS     {'longitude': 0.09208, 'latitude': 51.4873437}                 \n",
      "1       FHRS  {'longitude': 0.0859939977526665, 'latitude': ...                 \n",
      "2       FHRS   {'longitude': 0.0912164, 'latitude': 51.4867296}                 \n",
      "3       FHRS  {'longitude': 0.0924199968576431, 'latitude': ...                 \n",
      "4       FHRS  {'longitude': 0.0925370007753372, 'latitude': ...                 \n",
      "\n",
      "      Distance NewRatingPending  \\\n",
      "0  4646.965635            False   \n",
      "1  4646.974010            False   \n",
      "2  4646.974612            False   \n",
      "3  4646.946071            False   \n",
      "4  4646.955931            False   \n",
      "\n",
      "                                                meta  \\\n",
      "0  {'dataSource': None, 'extractDate': '0001-01-0...   \n",
      "1  {'dataSource': None, 'extractDate': '0001-01-0...   \n",
      "2  {'dataSource': None, 'extractDate': '0001-01-0...   \n",
      "3  {'dataSource': None, 'extractDate': '0001-01-0...   \n",
      "4  {'dataSource': None, 'extractDate': '0001-01-0...   \n",
      "\n",
      "                                               links     latitude   longitude  \n",
      "0  [{'rel': 'self', 'href': 'http://api.ratings.f...  51.49014200  0.08384000  \n",
      "1  [{'rel': 'self', 'href': 'http://api.ratings.f...  51.49014200  0.08384000  \n",
      "2  [{'rel': 'self', 'href': 'http://api.ratings.f...  51.49014200  0.08384000  \n",
      "3  [{'rel': 'self', 'href': 'http://api.ratings.f...  51.49014200  0.08384000  \n",
      "4  [{'rel': 'self', 'href': 'http://api.ratings.f...  51.49014200  0.08384000  \n",
      "\n",
      "[5 rows x 30 columns]\n"
     ]
    }
   ],
   "source": [
    "# Convert result to Pandas DataFrame\n",
    "results2_df = pd.DataFrame(list(result2))\n",
    "# Display the number of rows in the DataFrame\n",
    "print(f\"Number of rows in DataFrame: {len(results2_df)}\")\n",
    "# Display the first 10 rows of the DataFrame\n",
    "print(\"First 10 Rows of the DataFrame: \")\n",
    "print(results2_df.head(10))"
   ]
  },
  {
   "cell_type": "markdown",
   "id": "67281254",
   "metadata": {},
   "source": [
    "### 4. How many establishments in each Local Authority area have a hygiene score of 0?"
   ]
  },
  {
   "cell_type": "code",
   "execution_count": 24,
   "id": "4eeb227e",
   "metadata": {},
   "outputs": [
    {
     "name": "stdout",
     "output_type": "stream",
     "text": [
      "Number of establishments in Thanet with hygiene score of 0: 1130\n",
      "Number of establishments in Greenwich with hygiene score of 0: 882\n",
      "Number of establishments in Maidstone with hygiene score of 0: 713\n",
      "Number of establishments in Newham with hygiene score of 0: 711\n",
      "Number of establishments in Swale with hygiene score of 0: 686\n",
      "Number of establishments in Chelmsford with hygiene score of 0: 680\n",
      "Number of establishments in Medway with hygiene score of 0: 672\n",
      "Number of establishments in Bexley with hygiene score of 0: 607\n",
      "Number of establishments in Southend-On-Sea with hygiene score of 0: 586\n",
      "Number of establishments in Tendring with hygiene score of 0: 542\n"
     ]
    }
   ],
   "source": [
    "# Create a pipeline that:\n",
    "# 1. Matches establishments with a hygiene score of 0\n",
    "# 2. Groups the matches by Local Authority\n",
    "# 3. Sorts the matches from highest to lowest\n",
    "pipeline = [\n",
    "    {'$match': {'scores.Hygiene': 0}},\n",
    "    {'$group': {'_id': '$LocalAuthorityName', 'count': {'$sum': 1}}},\n",
    "    {'$sort': {'count': -1}}\n",
    "] \n",
    "results3 = establishments.aggregate(pipeline)\n",
    "\n",
    "# Print the number of documents in the result\n",
    "# for result in results:\n",
    "#     print(f\"Number of establishments in {result['_id']} with hygiene score of 0: {result['count']}\")\n",
    "\n",
    "# Print the first 10 results\n",
    "count = 0\n",
    "for result in results3:\n",
    "    print(f\"Number of establishments in {result['_id']} with hygiene score of 0: {result['count']}\")\n",
    "    count += 1\n",
    "    if count == 10:\n",
    "        break"
   ]
  },
  {
   "cell_type": "code",
   "execution_count": 25,
   "id": "d8aab364",
   "metadata": {},
   "outputs": [
    {
     "name": "stdout",
     "output_type": "stream",
     "text": [
      "Number of rows in the DataFrame: 45\n",
      "                    _id  count\n",
      "0            Colchester    498\n",
      "1       Tunbridge Wells    491\n",
      "2  Folkestone and Hythe    480\n",
      "3            Eastbourne    478\n",
      "4              Hastings    464\n",
      "5               Bromley    460\n",
      "6               Ashford    427\n",
      "7              Havering    397\n",
      "8              Dartford    383\n",
      "9             Braintree    382\n"
     ]
    }
   ],
   "source": [
    "# Convert the result to a Pandas DataFrame\n",
    "df3 = pd.DataFrame(results3)\n",
    "# Display the number of rows in the DataFrame\n",
    "num_rows3 = len(df3)\n",
    "print(f'Number of rows in the DataFrame: {num_rows3}')\n",
    "# Display the first 10 rows of the DataFrame\n",
    "print(df3.head(10))"
   ]
  },
  {
   "cell_type": "code",
   "execution_count": null,
   "id": "21b1680f",
   "metadata": {},
   "outputs": [],
   "source": []
  }
 ],
 "metadata": {
  "kernelspec": {
   "display_name": "Python 3 (ipykernel)",
   "language": "python",
   "name": "python3"
  },
  "language_info": {
   "codemirror_mode": {
    "name": "ipython",
    "version": 3
   },
   "file_extension": ".py",
   "mimetype": "text/x-python",
   "name": "python",
   "nbconvert_exporter": "python",
   "pygments_lexer": "ipython3",
   "version": "3.10.11"
  }
 },
 "nbformat": 4,
 "nbformat_minor": 5
}
